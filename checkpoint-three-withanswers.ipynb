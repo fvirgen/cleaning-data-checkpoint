{
    "cells": [
        {
            "attachments": {},
            "cell_type": "markdown",
            "metadata": {
                "azdata_cell_guid": "26037d32-2047-4157-81ef-595916bd66a0"
            },
            "source": [
                "# Checkpoint Three: Cleaning Data\n",
                "\n",
                "Now you are ready to clean your data. Before starting coding, provide the link to your dataset below.\n",
                "\n",
                "My dataset: https://data.cms.gov/provider-data/dataset/xubh-q36u\n",
                "\n",
                "Import the necessary libraries and create your dataframe(s)."
            ]
        },
        {
            "cell_type": "code",
            "execution_count": 2,
            "metadata": {
                "azdata_cell_guid": "e8adef8e-d0f2-4640-a179-5997f11e82ca"
            },
            "outputs": [],
            "source": [
                "import pandas as pd\n",
                "import numpy as np"
            ]
        },
        {
            "cell_type": "code",
            "execution_count": 3,
            "metadata": {},
            "outputs": [],
            "source": [
                "df = pd.read_csv('/Users/fatima/Desktop/LaunchCode/data-analysis-projects/eda-checkpoint/Hospital_General_Information.csv')"
            ]
        },
        {
            "cell_type": "code",
            "execution_count": 4,
            "metadata": {},
            "outputs": [
                {
                    "data": {
                        "text/html": [
                            "<div>\n",
                            "<style scoped>\n",
                            "    .dataframe tbody tr th:only-of-type {\n",
                            "        vertical-align: middle;\n",
                            "    }\n",
                            "\n",
                            "    .dataframe tbody tr th {\n",
                            "        vertical-align: top;\n",
                            "    }\n",
                            "\n",
                            "    .dataframe thead th {\n",
                            "        text-align: right;\n",
                            "    }\n",
                            "</style>\n",
                            "<table border=\"1\" class=\"dataframe\">\n",
                            "  <thead>\n",
                            "    <tr style=\"text-align: right;\">\n",
                            "      <th></th>\n",
                            "      <th>Facility ID</th>\n",
                            "      <th>Facility Name</th>\n",
                            "      <th>Address</th>\n",
                            "      <th>City/Town</th>\n",
                            "      <th>State</th>\n",
                            "      <th>ZIP Code</th>\n",
                            "      <th>County/Parish</th>\n",
                            "      <th>Telephone Number</th>\n",
                            "      <th>Hospital Type</th>\n",
                            "      <th>Hospital Ownership</th>\n",
                            "      <th>...</th>\n",
                            "      <th>Count of READM Measures Better</th>\n",
                            "      <th>Count of READM Measures No Different</th>\n",
                            "      <th>Count of READM Measures Worse</th>\n",
                            "      <th>READM Group Footnote</th>\n",
                            "      <th>Pt Exp Group Measure Count</th>\n",
                            "      <th>Count of Facility Pt Exp Measures</th>\n",
                            "      <th>Pt Exp Group Footnote</th>\n",
                            "      <th>TE Group Measure Count</th>\n",
                            "      <th>Count of Facility TE Measures</th>\n",
                            "      <th>TE Group Footnote</th>\n",
                            "    </tr>\n",
                            "  </thead>\n",
                            "  <tbody>\n",
                            "    <tr>\n",
                            "      <th>0</th>\n",
                            "      <td>010001</td>\n",
                            "      <td>SOUTHEAST HEALTH MEDICAL CENTER</td>\n",
                            "      <td>1108 ROSS CLARK CIRCLE</td>\n",
                            "      <td>DOTHAN</td>\n",
                            "      <td>AL</td>\n",
                            "      <td>36301</td>\n",
                            "      <td>HOUSTON</td>\n",
                            "      <td>(334) 793-8701</td>\n",
                            "      <td>Acute Care Hospitals</td>\n",
                            "      <td>Government - Hospital District or Authority</td>\n",
                            "      <td>...</td>\n",
                            "      <td>1</td>\n",
                            "      <td>8</td>\n",
                            "      <td>2</td>\n",
                            "      <td>NaN</td>\n",
                            "      <td>8</td>\n",
                            "      <td>8</td>\n",
                            "      <td>NaN</td>\n",
                            "      <td>12</td>\n",
                            "      <td>10</td>\n",
                            "      <td>NaN</td>\n",
                            "    </tr>\n",
                            "    <tr>\n",
                            "      <th>1</th>\n",
                            "      <td>010005</td>\n",
                            "      <td>MARSHALL MEDICAL CENTERS</td>\n",
                            "      <td>2505 U S HIGHWAY 431 NORTH</td>\n",
                            "      <td>BOAZ</td>\n",
                            "      <td>AL</td>\n",
                            "      <td>35957</td>\n",
                            "      <td>MARSHALL</td>\n",
                            "      <td>(256) 593-8310</td>\n",
                            "      <td>Acute Care Hospitals</td>\n",
                            "      <td>Government - Hospital District or Authority</td>\n",
                            "      <td>...</td>\n",
                            "      <td>0</td>\n",
                            "      <td>8</td>\n",
                            "      <td>1</td>\n",
                            "      <td>NaN</td>\n",
                            "      <td>8</td>\n",
                            "      <td>8</td>\n",
                            "      <td>NaN</td>\n",
                            "      <td>12</td>\n",
                            "      <td>12</td>\n",
                            "      <td>NaN</td>\n",
                            "    </tr>\n",
                            "    <tr>\n",
                            "      <th>2</th>\n",
                            "      <td>010006</td>\n",
                            "      <td>NORTH ALABAMA MEDICAL CENTER</td>\n",
                            "      <td>1701 VETERANS DRIVE</td>\n",
                            "      <td>FLORENCE</td>\n",
                            "      <td>AL</td>\n",
                            "      <td>35630</td>\n",
                            "      <td>LAUDERDALE</td>\n",
                            "      <td>(256) 629-1000</td>\n",
                            "      <td>Acute Care Hospitals</td>\n",
                            "      <td>Proprietary</td>\n",
                            "      <td>...</td>\n",
                            "      <td>0</td>\n",
                            "      <td>7</td>\n",
                            "      <td>2</td>\n",
                            "      <td>NaN</td>\n",
                            "      <td>8</td>\n",
                            "      <td>8</td>\n",
                            "      <td>NaN</td>\n",
                            "      <td>12</td>\n",
                            "      <td>11</td>\n",
                            "      <td>NaN</td>\n",
                            "    </tr>\n",
                            "    <tr>\n",
                            "      <th>3</th>\n",
                            "      <td>010007</td>\n",
                            "      <td>MIZELL MEMORIAL HOSPITAL</td>\n",
                            "      <td>702 N MAIN ST</td>\n",
                            "      <td>OPP</td>\n",
                            "      <td>AL</td>\n",
                            "      <td>36467</td>\n",
                            "      <td>COVINGTON</td>\n",
                            "      <td>(334) 493-3541</td>\n",
                            "      <td>Acute Care Hospitals</td>\n",
                            "      <td>Voluntary non-profit - Private</td>\n",
                            "      <td>...</td>\n",
                            "      <td>0</td>\n",
                            "      <td>7</td>\n",
                            "      <td>0</td>\n",
                            "      <td>NaN</td>\n",
                            "      <td>8</td>\n",
                            "      <td>8</td>\n",
                            "      <td>NaN</td>\n",
                            "      <td>12</td>\n",
                            "      <td>7</td>\n",
                            "      <td>NaN</td>\n",
                            "    </tr>\n",
                            "    <tr>\n",
                            "      <th>4</th>\n",
                            "      <td>010008</td>\n",
                            "      <td>CRENSHAW COMMUNITY HOSPITAL</td>\n",
                            "      <td>101 HOSPITAL CIRCLE</td>\n",
                            "      <td>LUVERNE</td>\n",
                            "      <td>AL</td>\n",
                            "      <td>36049</td>\n",
                            "      <td>CRENSHAW</td>\n",
                            "      <td>(334) 335-3374</td>\n",
                            "      <td>Acute Care Hospitals</td>\n",
                            "      <td>Proprietary</td>\n",
                            "      <td>...</td>\n",
                            "      <td>0</td>\n",
                            "      <td>2</td>\n",
                            "      <td>0</td>\n",
                            "      <td>NaN</td>\n",
                            "      <td>8</td>\n",
                            "      <td>Not Available</td>\n",
                            "      <td>5.0</td>\n",
                            "      <td>12</td>\n",
                            "      <td>6</td>\n",
                            "      <td>NaN</td>\n",
                            "    </tr>\n",
                            "    <tr>\n",
                            "      <th>...</th>\n",
                            "      <td>...</td>\n",
                            "      <td>...</td>\n",
                            "      <td>...</td>\n",
                            "      <td>...</td>\n",
                            "      <td>...</td>\n",
                            "      <td>...</td>\n",
                            "      <td>...</td>\n",
                            "      <td>...</td>\n",
                            "      <td>...</td>\n",
                            "      <td>...</td>\n",
                            "      <td>...</td>\n",
                            "      <td>...</td>\n",
                            "      <td>...</td>\n",
                            "      <td>...</td>\n",
                            "      <td>...</td>\n",
                            "      <td>...</td>\n",
                            "      <td>...</td>\n",
                            "      <td>...</td>\n",
                            "      <td>...</td>\n",
                            "      <td>...</td>\n",
                            "      <td>...</td>\n",
                            "    </tr>\n",
                            "    <tr>\n",
                            "      <th>5393</th>\n",
                            "      <td>670319</td>\n",
                            "      <td>TRINITY REGIONAL HOSPITAL SACHSE</td>\n",
                            "      <td>4750 PRESIDENT GEORGE BUSH HIGHWAY</td>\n",
                            "      <td>SACHSE</td>\n",
                            "      <td>TX</td>\n",
                            "      <td>75048</td>\n",
                            "      <td>DALLAS</td>\n",
                            "      <td>(469) 298-2599</td>\n",
                            "      <td>Acute Care Hospitals</td>\n",
                            "      <td>Voluntary non-profit - Private</td>\n",
                            "      <td>...</td>\n",
                            "      <td>Not Available</td>\n",
                            "      <td>Not Available</td>\n",
                            "      <td>Not Available</td>\n",
                            "      <td>19.0</td>\n",
                            "      <td>Not Available</td>\n",
                            "      <td>Not Available</td>\n",
                            "      <td>19.0</td>\n",
                            "      <td>Not Available</td>\n",
                            "      <td>Not Available</td>\n",
                            "      <td>19.0</td>\n",
                            "    </tr>\n",
                            "    <tr>\n",
                            "      <th>5394</th>\n",
                            "      <td>670320</td>\n",
                            "      <td>EAST HOUSTON MEDICAL CENTER</td>\n",
                            "      <td>15149 WALLISVILLE ROAD</td>\n",
                            "      <td>HOUSTON</td>\n",
                            "      <td>TX</td>\n",
                            "      <td>77049</td>\n",
                            "      <td>HARRIS</td>\n",
                            "      <td>(281) 988-9800</td>\n",
                            "      <td>Acute Care Hospitals</td>\n",
                            "      <td>Proprietary</td>\n",
                            "      <td>...</td>\n",
                            "      <td>Not Available</td>\n",
                            "      <td>Not Available</td>\n",
                            "      <td>Not Available</td>\n",
                            "      <td>19.0</td>\n",
                            "      <td>Not Available</td>\n",
                            "      <td>Not Available</td>\n",
                            "      <td>19.0</td>\n",
                            "      <td>Not Available</td>\n",
                            "      <td>Not Available</td>\n",
                            "      <td>19.0</td>\n",
                            "    </tr>\n",
                            "    <tr>\n",
                            "      <th>5395</th>\n",
                            "      <td>670321</td>\n",
                            "      <td>ADVANCED DALLAS HOSPITALS AND CLINICS</td>\n",
                            "      <td>7502 GREENVILLE AVENUE</td>\n",
                            "      <td>DALLAS</td>\n",
                            "      <td>TX</td>\n",
                            "      <td>75231</td>\n",
                            "      <td>DALLAS</td>\n",
                            "      <td>(214) 221-6000</td>\n",
                            "      <td>Acute Care Hospitals</td>\n",
                            "      <td>Proprietary</td>\n",
                            "      <td>...</td>\n",
                            "      <td>Not Available</td>\n",
                            "      <td>Not Available</td>\n",
                            "      <td>Not Available</td>\n",
                            "      <td>5.0</td>\n",
                            "      <td>Not Available</td>\n",
                            "      <td>Not Available</td>\n",
                            "      <td>5.0</td>\n",
                            "      <td>Not Available</td>\n",
                            "      <td>Not Available</td>\n",
                            "      <td>5.0</td>\n",
                            "    </tr>\n",
                            "    <tr>\n",
                            "      <th>5396</th>\n",
                            "      <td>670322</td>\n",
                            "      <td>LEGENT SURGICAL HOSPITAL PLANO</td>\n",
                            "      <td>4100 MAPLESHADE LANE</td>\n",
                            "      <td>PLANO</td>\n",
                            "      <td>TX</td>\n",
                            "      <td>75075</td>\n",
                            "      <td>COLLIN</td>\n",
                            "      <td>(972) 265-1050</td>\n",
                            "      <td>Acute Care Hospitals</td>\n",
                            "      <td>Proprietary</td>\n",
                            "      <td>...</td>\n",
                            "      <td>Not Available</td>\n",
                            "      <td>Not Available</td>\n",
                            "      <td>Not Available</td>\n",
                            "      <td>5.0</td>\n",
                            "      <td>8</td>\n",
                            "      <td>Not Available</td>\n",
                            "      <td>5.0</td>\n",
                            "      <td>12</td>\n",
                            "      <td>Not Available</td>\n",
                            "      <td>5.0</td>\n",
                            "    </tr>\n",
                            "    <tr>\n",
                            "      <th>5397</th>\n",
                            "      <td>671300</td>\n",
                            "      <td>GRAHAM REGIONAL MEDICAL CENTER</td>\n",
                            "      <td>1301 MONTGOMERY ROAD</td>\n",
                            "      <td>GRAHAM</td>\n",
                            "      <td>TX</td>\n",
                            "      <td>76450</td>\n",
                            "      <td>YOUNG</td>\n",
                            "      <td>(940) 549-3400</td>\n",
                            "      <td>Critical Access Hospitals</td>\n",
                            "      <td>Government - Hospital District or Authority</td>\n",
                            "      <td>...</td>\n",
                            "      <td>Not Available</td>\n",
                            "      <td>Not Available</td>\n",
                            "      <td>Not Available</td>\n",
                            "      <td>5.0</td>\n",
                            "      <td>Not Available</td>\n",
                            "      <td>Not Available</td>\n",
                            "      <td>5.0</td>\n",
                            "      <td>Not Available</td>\n",
                            "      <td>Not Available</td>\n",
                            "      <td>5.0</td>\n",
                            "    </tr>\n",
                            "  </tbody>\n",
                            "</table>\n",
                            "<p>5398 rows × 39 columns</p>\n",
                            "</div>"
                        ],
                        "text/plain": [
                            "     Facility ID                          Facility Name  \\\n",
                            "0         010001        SOUTHEAST HEALTH MEDICAL CENTER   \n",
                            "1         010005               MARSHALL MEDICAL CENTERS   \n",
                            "2         010006           NORTH ALABAMA MEDICAL CENTER   \n",
                            "3         010007               MIZELL MEMORIAL HOSPITAL   \n",
                            "4         010008            CRENSHAW COMMUNITY HOSPITAL   \n",
                            "...          ...                                    ...   \n",
                            "5393      670319       TRINITY REGIONAL HOSPITAL SACHSE   \n",
                            "5394      670320            EAST HOUSTON MEDICAL CENTER   \n",
                            "5395      670321  ADVANCED DALLAS HOSPITALS AND CLINICS   \n",
                            "5396      670322         LEGENT SURGICAL HOSPITAL PLANO   \n",
                            "5397      671300         GRAHAM REGIONAL MEDICAL CENTER   \n",
                            "\n",
                            "                                 Address City/Town State  ZIP Code  \\\n",
                            "0                 1108 ROSS CLARK CIRCLE    DOTHAN    AL     36301   \n",
                            "1             2505 U S HIGHWAY 431 NORTH      BOAZ    AL     35957   \n",
                            "2                    1701 VETERANS DRIVE  FLORENCE    AL     35630   \n",
                            "3                          702 N MAIN ST       OPP    AL     36467   \n",
                            "4                    101 HOSPITAL CIRCLE   LUVERNE    AL     36049   \n",
                            "...                                  ...       ...   ...       ...   \n",
                            "5393  4750 PRESIDENT GEORGE BUSH HIGHWAY    SACHSE    TX     75048   \n",
                            "5394              15149 WALLISVILLE ROAD   HOUSTON    TX     77049   \n",
                            "5395              7502 GREENVILLE AVENUE    DALLAS    TX     75231   \n",
                            "5396                4100 MAPLESHADE LANE     PLANO    TX     75075   \n",
                            "5397                1301 MONTGOMERY ROAD    GRAHAM    TX     76450   \n",
                            "\n",
                            "     County/Parish Telephone Number              Hospital Type  \\\n",
                            "0          HOUSTON   (334) 793-8701       Acute Care Hospitals   \n",
                            "1         MARSHALL   (256) 593-8310       Acute Care Hospitals   \n",
                            "2       LAUDERDALE   (256) 629-1000       Acute Care Hospitals   \n",
                            "3        COVINGTON   (334) 493-3541       Acute Care Hospitals   \n",
                            "4         CRENSHAW   (334) 335-3374       Acute Care Hospitals   \n",
                            "...            ...              ...                        ...   \n",
                            "5393        DALLAS   (469) 298-2599       Acute Care Hospitals   \n",
                            "5394        HARRIS   (281) 988-9800       Acute Care Hospitals   \n",
                            "5395        DALLAS   (214) 221-6000       Acute Care Hospitals   \n",
                            "5396        COLLIN   (972) 265-1050       Acute Care Hospitals   \n",
                            "5397         YOUNG   (940) 549-3400  Critical Access Hospitals   \n",
                            "\n",
                            "                               Hospital Ownership  ...  \\\n",
                            "0     Government - Hospital District or Authority  ...   \n",
                            "1     Government - Hospital District or Authority  ...   \n",
                            "2                                     Proprietary  ...   \n",
                            "3                  Voluntary non-profit - Private  ...   \n",
                            "4                                     Proprietary  ...   \n",
                            "...                                           ...  ...   \n",
                            "5393               Voluntary non-profit - Private  ...   \n",
                            "5394                                  Proprietary  ...   \n",
                            "5395                                  Proprietary  ...   \n",
                            "5396                                  Proprietary  ...   \n",
                            "5397  Government - Hospital District or Authority  ...   \n",
                            "\n",
                            "     Count of READM Measures Better Count of READM Measures No Different  \\\n",
                            "0                                 1                                    8   \n",
                            "1                                 0                                    8   \n",
                            "2                                 0                                    7   \n",
                            "3                                 0                                    7   \n",
                            "4                                 0                                    2   \n",
                            "...                             ...                                  ...   \n",
                            "5393                  Not Available                        Not Available   \n",
                            "5394                  Not Available                        Not Available   \n",
                            "5395                  Not Available                        Not Available   \n",
                            "5396                  Not Available                        Not Available   \n",
                            "5397                  Not Available                        Not Available   \n",
                            "\n",
                            "     Count of READM Measures Worse READM Group Footnote  \\\n",
                            "0                                2                  NaN   \n",
                            "1                                1                  NaN   \n",
                            "2                                2                  NaN   \n",
                            "3                                0                  NaN   \n",
                            "4                                0                  NaN   \n",
                            "...                            ...                  ...   \n",
                            "5393                 Not Available                 19.0   \n",
                            "5394                 Not Available                 19.0   \n",
                            "5395                 Not Available                  5.0   \n",
                            "5396                 Not Available                  5.0   \n",
                            "5397                 Not Available                  5.0   \n",
                            "\n",
                            "     Pt Exp Group Measure Count Count of Facility Pt Exp Measures  \\\n",
                            "0                             8                                 8   \n",
                            "1                             8                                 8   \n",
                            "2                             8                                 8   \n",
                            "3                             8                                 8   \n",
                            "4                             8                     Not Available   \n",
                            "...                         ...                               ...   \n",
                            "5393              Not Available                     Not Available   \n",
                            "5394              Not Available                     Not Available   \n",
                            "5395              Not Available                     Not Available   \n",
                            "5396                          8                     Not Available   \n",
                            "5397              Not Available                     Not Available   \n",
                            "\n",
                            "     Pt Exp Group Footnote TE Group Measure Count  \\\n",
                            "0                      NaN                     12   \n",
                            "1                      NaN                     12   \n",
                            "2                      NaN                     12   \n",
                            "3                      NaN                     12   \n",
                            "4                      5.0                     12   \n",
                            "...                    ...                    ...   \n",
                            "5393                  19.0          Not Available   \n",
                            "5394                  19.0          Not Available   \n",
                            "5395                   5.0          Not Available   \n",
                            "5396                   5.0                     12   \n",
                            "5397                   5.0          Not Available   \n",
                            "\n",
                            "     Count of Facility TE Measures TE Group Footnote  \n",
                            "0                               10               NaN  \n",
                            "1                               12               NaN  \n",
                            "2                               11               NaN  \n",
                            "3                                7               NaN  \n",
                            "4                                6               NaN  \n",
                            "...                            ...               ...  \n",
                            "5393                 Not Available              19.0  \n",
                            "5394                 Not Available              19.0  \n",
                            "5395                 Not Available               5.0  \n",
                            "5396                 Not Available               5.0  \n",
                            "5397                 Not Available               5.0  \n",
                            "\n",
                            "[5398 rows x 39 columns]"
                        ]
                    },
                    "execution_count": 4,
                    "metadata": {},
                    "output_type": "execute_result"
                }
            ],
            "source": [
                "df"
            ]
        },
        {
            "cell_type": "markdown",
            "metadata": {
                "azdata_cell_guid": "e172475a-c4ee-414a-8367-9965355dbba6"
            },
            "source": [
                "## Missing Data\n",
                "\n",
                "Test your dataset for missing data and handle it as needed. Make notes in the form of code comments as to your thought process."
            ]
        },
        {
            "cell_type": "code",
            "execution_count": 5,
            "metadata": {
                "azdata_cell_guid": "e1dc66ef-e471-4c27-92e7-ee878c106eba"
            },
            "outputs": [
                {
                    "name": "stdout",
                    "output_type": "stream",
                    "text": [
                        "<class 'pandas.core.frame.DataFrame'>\n",
                        "RangeIndex: 5398 entries, 0 to 5397\n",
                        "Data columns (total 39 columns):\n",
                        " #   Column                                                 Non-Null Count  Dtype  \n",
                        "---  ------                                                 --------------  -----  \n",
                        " 0   Facility ID                                            5398 non-null   object \n",
                        " 1   Facility Name                                          5398 non-null   object \n",
                        " 2   Address                                                5398 non-null   object \n",
                        " 3   City/Town                                              5398 non-null   object \n",
                        " 4   State                                                  5398 non-null   object \n",
                        " 5   ZIP Code                                               5398 non-null   int64  \n",
                        " 6   County/Parish                                          5398 non-null   object \n",
                        " 7   Telephone Number                                       5398 non-null   object \n",
                        " 8   Hospital Type                                          5398 non-null   object \n",
                        " 9   Hospital Ownership                                     5398 non-null   object \n",
                        " 10  Emergency Services                                     5398 non-null   object \n",
                        " 11  Meets criteria for promoting interoperability of EHRs  3898 non-null   object \n",
                        " 12  Meets criteria for birthing friendly designation       2225 non-null   object \n",
                        " 13  Hospital overall rating                                5398 non-null   object \n",
                        " 14  Hospital overall rating footnote                       2610 non-null   object \n",
                        " 15  MORT Group Measure Count                               5398 non-null   object \n",
                        " 16  Count of Facility MORT Measures                        5398 non-null   object \n",
                        " 17  Count of MORT Measures Better                          5398 non-null   object \n",
                        " 18  Count of MORT Measures No Different                    5398 non-null   object \n",
                        " 19  Count of MORT Measures Worse                           5398 non-null   object \n",
                        " 20  MORT Group Footnote                                    1850 non-null   float64\n",
                        " 21  Safety Group Measure Count                             5398 non-null   object \n",
                        " 22  Count of Facility Safety Measures                      5398 non-null   object \n",
                        " 23  Count of Safety Measures Better                        5398 non-null   object \n",
                        " 24  Count of Safety Measures No Different                  5398 non-null   object \n",
                        " 25  Count of Safety Measures Worse                         5398 non-null   object \n",
                        " 26  Safety Group Footnote                                  1972 non-null   float64\n",
                        " 27  READM Group Measure Count                              5398 non-null   object \n",
                        " 28  Count of Facility READM Measures                       5398 non-null   object \n",
                        " 29  Count of READM Measures Better                         5398 non-null   object \n",
                        " 30  Count of READM Measures No Different                   5398 non-null   object \n",
                        " 31  Count of READM Measures Worse                          5398 non-null   object \n",
                        " 32  READM Group Footnote                                   1055 non-null   float64\n",
                        " 33  Pt Exp Group Measure Count                             5398 non-null   object \n",
                        " 34  Count of Facility Pt Exp Measures                      5398 non-null   object \n",
                        " 35  Pt Exp Group Footnote                                  2179 non-null   float64\n",
                        " 36  TE Group Measure Count                                 5398 non-null   object \n",
                        " 37  Count of Facility TE Measures                          5398 non-null   object \n",
                        " 38  TE Group Footnote                                      854 non-null    float64\n",
                        "dtypes: float64(5), int64(1), object(33)\n",
                        "memory usage: 1.6+ MB\n"
                    ]
                }
            ],
            "source": [
                "df.info()\n",
                "\n",
                "#Review columns."
            ]
        },
        {
            "cell_type": "code",
            "execution_count": 6,
            "metadata": {},
            "outputs": [
                {
                    "name": "stdout",
                    "output_type": "stream",
                    "text": [
                        "Facility ID                                                 0\n",
                        "Facility Name                                               0\n",
                        "Address                                                     0\n",
                        "City/Town                                                   0\n",
                        "State                                                       0\n",
                        "ZIP Code                                                    0\n",
                        "County/Parish                                               0\n",
                        "Telephone Number                                            0\n",
                        "Hospital Type                                               0\n",
                        "Hospital Ownership                                          0\n",
                        "Emergency Services                                          0\n",
                        "Meets criteria for promoting interoperability of EHRs    1500\n",
                        "Meets criteria for birthing friendly designation         3173\n",
                        "Hospital overall rating                                     0\n",
                        "Hospital overall rating footnote                         2788\n",
                        "MORT Group Measure Count                                    0\n",
                        "Count of Facility MORT Measures                             0\n",
                        "Count of MORT Measures Better                               0\n",
                        "Count of MORT Measures No Different                         0\n",
                        "Count of MORT Measures Worse                                0\n",
                        "MORT Group Footnote                                      3548\n",
                        "Safety Group Measure Count                                  0\n",
                        "Count of Facility Safety Measures                           0\n",
                        "Count of Safety Measures Better                             0\n",
                        "Count of Safety Measures No Different                       0\n",
                        "Count of Safety Measures Worse                              0\n",
                        "Safety Group Footnote                                    3426\n",
                        "READM Group Measure Count                                   0\n",
                        "Count of Facility READM Measures                            0\n",
                        "Count of READM Measures Better                              0\n",
                        "Count of READM Measures No Different                        0\n",
                        "Count of READM Measures Worse                               0\n",
                        "READM Group Footnote                                     4343\n",
                        "Pt Exp Group Measure Count                                  0\n",
                        "Count of Facility Pt Exp Measures                           0\n",
                        "Pt Exp Group Footnote                                    3219\n",
                        "TE Group Measure Count                                      0\n",
                        "Count of Facility TE Measures                               0\n",
                        "TE Group Footnote                                        4544\n",
                        "dtype: int64\n"
                    ]
                }
            ],
            "source": [
                "print(df.isnull().sum())\n",
                "\n",
                "#There are columns that lists null values as Not Available instead of leaving it blank."
            ]
        },
        {
            "cell_type": "code",
            "execution_count": 7,
            "metadata": {},
            "outputs": [
                {
                    "data": {
                        "text/plain": [
                            "Meets criteria for promoting interoperability of EHRs\n",
                            "Y    3898\n",
                            "Name: count, dtype: int64"
                        ]
                    },
                    "execution_count": 7,
                    "metadata": {},
                    "output_type": "execute_result"
                }
            ],
            "source": [
                "df.value_counts('Meets criteria for promoting interoperability of EHRs')\n",
                "\n",
                "#Only 'Y' in this column, which I assume means yes, null values meaning no. "
            ]
        },
        {
            "cell_type": "code",
            "execution_count": 8,
            "metadata": {},
            "outputs": [
                {
                    "data": {
                        "text/plain": [
                            "Meets criteria for birthing friendly designation\n",
                            "Y    2225\n",
                            "Name: count, dtype: int64"
                        ]
                    },
                    "execution_count": 8,
                    "metadata": {},
                    "output_type": "execute_result"
                }
            ],
            "source": [
                "df.value_counts('Meets criteria for birthing friendly designation')\n",
                "\n",
                "#Same as previous."
            ]
        },
        {
            "cell_type": "code",
            "execution_count": 9,
            "metadata": {},
            "outputs": [
                {
                    "name": "stderr",
                    "output_type": "stream",
                    "text": [
                        "/var/folders/3w/7v9cynf939n1kcryf0n89hvw0000gn/T/ipykernel_4157/2335019567.py:3: FutureWarning: A value is trying to be set on a copy of a DataFrame or Series through chained assignment using an inplace method.\n",
                        "The behavior will change in pandas 3.0. This inplace method will never work because the intermediate object on which we are setting values always behaves as a copy.\n",
                        "\n",
                        "For example, when doing 'df[col].method(value, inplace=True)', try using 'df.method({col: value}, inplace=True)' or df[col] = df[col].method(value) instead, to perform the operation inplace on the original object.\n",
                        "\n",
                        "\n",
                        "  df['Meets criteria for promoting interoperability of EHRs'].fillna('N', inplace=True)\n"
                    ]
                }
            ],
            "source": [
                "#Replacing nulls in 'Meets criteria' columns (2) to N for NO, based on assumption. \n",
                "\n",
                "df['Meets criteria for promoting interoperability of EHRs'].fillna('N', inplace=True)\n"
            ]
        },
        {
            "cell_type": "code",
            "execution_count": 10,
            "metadata": {},
            "outputs": [
                {
                    "data": {
                        "text/plain": [
                            "Meets criteria for promoting interoperability of EHRs\n",
                            "Y    3898\n",
                            "N    1500\n",
                            "Name: count, dtype: int64"
                        ]
                    },
                    "execution_count": 10,
                    "metadata": {},
                    "output_type": "execute_result"
                }
            ],
            "source": [
                "df.value_counts('Meets criteria for promoting interoperability of EHRs')"
            ]
        },
        {
            "cell_type": "code",
            "execution_count": 11,
            "metadata": {},
            "outputs": [
                {
                    "name": "stderr",
                    "output_type": "stream",
                    "text": [
                        "/var/folders/3w/7v9cynf939n1kcryf0n89hvw0000gn/T/ipykernel_4157/783885700.py:1: FutureWarning: A value is trying to be set on a copy of a DataFrame or Series through chained assignment using an inplace method.\n",
                        "The behavior will change in pandas 3.0. This inplace method will never work because the intermediate object on which we are setting values always behaves as a copy.\n",
                        "\n",
                        "For example, when doing 'df[col].method(value, inplace=True)', try using 'df.method({col: value}, inplace=True)' or df[col] = df[col].method(value) instead, to perform the operation inplace on the original object.\n",
                        "\n",
                        "\n",
                        "  df['Meets criteria for birthing friendly designation'].fillna('N', inplace=True)\n"
                    ]
                }
            ],
            "source": [
                "df['Meets criteria for birthing friendly designation'].fillna('N', inplace=True)\n"
            ]
        },
        {
            "cell_type": "code",
            "execution_count": 12,
            "metadata": {},
            "outputs": [
                {
                    "data": {
                        "text/plain": [
                            "Meets criteria for birthing friendly designation\n",
                            "N    3173\n",
                            "Y    2225\n",
                            "Name: count, dtype: int64"
                        ]
                    },
                    "execution_count": 12,
                    "metadata": {},
                    "output_type": "execute_result"
                }
            ],
            "source": [
                "df.value_counts('Meets criteria for birthing friendly designation')"
            ]
        },
        {
            "cell_type": "code",
            "execution_count": 13,
            "metadata": {},
            "outputs": [],
            "source": [
                "#Replace Not Available values to None\n",
                "\n",
                "df.replace('Not Available', None, inplace=True)"
            ]
        },
        {
            "cell_type": "markdown",
            "metadata": {
                "azdata_cell_guid": "1233f543-e9a0-4f78-96f5-d7536554102e"
            },
            "source": [
                "## Irregular Data\n",
                "\n",
                "Detect outliers in your dataset and handle them as needed. Use code comments to make notes about your thought process."
            ]
        },
        {
            "cell_type": "code",
            "execution_count": 14,
            "metadata": {
                "azdata_cell_guid": "efed50ae-16f0-471d-98e2-632553a74c12"
            },
            "outputs": [],
            "source": [
                "#Based on my EDA I did not find any irregular data. "
            ]
        },
        {
            "cell_type": "markdown",
            "metadata": {
                "azdata_cell_guid": "6f5b8ee0-bab3-44bc-958a-67d1e4c0407f"
            },
            "source": [
                "## Unnecessary Data\n",
                "\n",
                "Look for the different types of unnecessary data in your dataset and address it as needed. Make sure to use code comments to illustrate your thought process."
            ]
        },
        {
            "cell_type": "code",
            "execution_count": 15,
            "metadata": {},
            "outputs": [
                {
                    "data": {
                        "text/plain": [
                            "False    5398\n",
                            "Name: count, dtype: int64"
                        ]
                    },
                    "execution_count": 15,
                    "metadata": {},
                    "output_type": "execute_result"
                }
            ],
            "source": [
                "duplicates = df.duplicated()\n",
                "\n",
                "duplicates.value_counts()\n",
                "\n",
                "#No duplicates found. "
            ]
        },
        {
            "cell_type": "code",
            "execution_count": 16,
            "metadata": {
                "azdata_cell_guid": "e788a239-2fbf-41de-9bd3-19e52e3b187c"
            },
            "outputs": [],
            "source": [
                "#Dropping footnotes as I find them unnessary for my analysis. \n",
                "\n",
                "df.drop(['Hospital overall rating footnote', 'MORT Group Footnote', 'Safety Group Footnote', 'READM Group Footnote', 'Pt Exp Group Footnote', 'TE Group Footnote'], axis=1, inplace=True)"
            ]
        },
        {
            "cell_type": "code",
            "execution_count": 17,
            "metadata": {},
            "outputs": [],
            "source": [
                "#Also dropping telephone number.\n",
                "\n",
                "df.drop(['Telephone Number'], axis=1, inplace=True)"
            ]
        },
        {
            "cell_type": "markdown",
            "metadata": {
                "azdata_cell_guid": "53e0cf94-c68a-4fa0-9849-9505a66bcce6"
            },
            "source": [
                "## Inconsistent Data\n",
                "\n",
                "Check for inconsistent data and address any that arises. As always, use code comments to illustrate your thought process."
            ]
        },
        {
            "cell_type": "code",
            "execution_count": 18,
            "metadata": {
                "azdata_cell_guid": "e9de6624-812a-43f8-8e20-93b4a49b091f"
            },
            "outputs": [
                {
                    "data": {
                        "text/plain": [
                            "56"
                        ]
                    },
                    "execution_count": 18,
                    "metadata": {},
                    "output_type": "execute_result"
                }
            ],
            "source": [
                "df['State'].nunique()\n",
                "\n",
                "#There's only 50 US States, so there must be some incorrect data here. "
            ]
        },
        {
            "cell_type": "code",
            "execution_count": 19,
            "metadata": {},
            "outputs": [
                {
                    "data": {
                        "text/plain": [
                            "State\n",
                            "TX    454\n",
                            "CA    378\n",
                            "FL    217\n",
                            "OH    195\n",
                            "IL    194\n",
                            "NY    191\n",
                            "PA    189\n",
                            "LA    155\n",
                            "IN    150\n",
                            "MI    149\n",
                            "GA    147\n",
                            "WI    144\n",
                            "KS    137\n",
                            "MN    136\n",
                            "OK    129\n",
                            "TN    123\n",
                            "MO    122\n",
                            "NC    122\n",
                            "IA    119\n",
                            "AZ    105\n",
                            "KY    103\n",
                            "MS    101\n",
                            "AL    100\n",
                            "WA    100\n",
                            "CO     97\n",
                            "VA     96\n",
                            "NE     93\n",
                            "AR     88\n",
                            "MA     82\n",
                            "NJ     79\n",
                            "SC     66\n",
                            "MT     63\n",
                            "OR     63\n",
                            "SD     61\n",
                            "PR     59\n",
                            "MD     56\n",
                            "WV     55\n",
                            "UT     53\n",
                            "ID     48\n",
                            "ND     47\n",
                            "NM     45\n",
                            "NV     45\n",
                            "ME     38\n",
                            "CT     37\n",
                            "WY     30\n",
                            "NH     28\n",
                            "AK     25\n",
                            "HI     25\n",
                            "VT     17\n",
                            "RI     13\n",
                            "DE     13\n",
                            "DC     10\n",
                            "VI      2\n",
                            "GU      2\n",
                            "AS      1\n",
                            "MP      1\n",
                            "Name: count, dtype: int64"
                        ]
                    },
                    "execution_count": 19,
                    "metadata": {},
                    "output_type": "execute_result"
                }
            ],
            "source": [
                "df.value_counts('State')\n",
                "\n",
                "#So the data also includes territories (Puerto Rico, Guam, Virgin Islands, Northern Mariana Islands, and American Samoa) and District of Columbia (DC)"
            ]
        },
        {
            "cell_type": "code",
            "execution_count": 20,
            "metadata": {},
            "outputs": [],
            "source": [
                "#Replacing Yes and No in Emergency Services column to be consistent with the rest of the columns. \n",
                "\n",
                "df['Emergency Services'] = df['Emergency Services'].replace('Yes', 'Y')\n",
                "df['Emergency Services'] = df['Emergency Services'].replace('No', 'N')\n"
            ]
        },
        {
            "cell_type": "code",
            "execution_count": 21,
            "metadata": {},
            "outputs": [
                {
                    "data": {
                        "text/plain": [
                            "Emergency Services\n",
                            "Y    4509\n",
                            "N     889\n",
                            "Name: count, dtype: int64"
                        ]
                    },
                    "execution_count": 21,
                    "metadata": {},
                    "output_type": "execute_result"
                }
            ],
            "source": [
                "df.value_counts('Emergency Services')"
            ]
        },
        {
            "cell_type": "code",
            "execution_count": 22,
            "metadata": {},
            "outputs": [
                {
                    "name": "stdout",
                    "output_type": "stream",
                    "text": [
                        "Facility ID                                                 0\n",
                        "Facility Name                                               0\n",
                        "Address                                                     0\n",
                        "City/Town                                                   0\n",
                        "State                                                       0\n",
                        "ZIP Code                                                    0\n",
                        "County/Parish                                               0\n",
                        "Hospital Type                                               1\n",
                        "Hospital Ownership                                          1\n",
                        "Emergency Services                                          0\n",
                        "Meets criteria for promoting interoperability of EHRs       0\n",
                        "Meets criteria for birthing friendly designation            0\n",
                        "Hospital overall rating                                  2564\n",
                        "MORT Group Measure Count                                  787\n",
                        "Count of Facility MORT Measures                          1847\n",
                        "Count of MORT Measures Better                            1847\n",
                        "Count of MORT Measures No Different                      1847\n",
                        "Count of MORT Measures Worse                             1847\n",
                        "Safety Group Measure Count                                787\n",
                        "Count of Facility Safety Measures                        1967\n",
                        "Count of Safety Measures Better                          1967\n",
                        "Count of Safety Measures No Different                    1967\n",
                        "Count of Safety Measures Worse                           1967\n",
                        "READM Group Measure Count                                 787\n",
                        "Count of Facility READM Measures                         1055\n",
                        "Count of READM Measures Better                           1055\n",
                        "Count of READM Measures No Different                     1055\n",
                        "Count of READM Measures Worse                            1055\n",
                        "Pt Exp Group Measure Count                                787\n",
                        "Count of Facility Pt Exp Measures                        2179\n",
                        "TE Group Measure Count                                    787\n",
                        "Count of Facility TE Measures                             854\n",
                        "dtype: int64\n"
                    ]
                }
            ],
            "source": [
                "print(df.isnull().sum())"
            ]
        },
        {
            "cell_type": "code",
            "execution_count": 23,
            "metadata": {},
            "outputs": [],
            "source": [
                "df.to_csv('Hospital_General_Information_Clean.csv', index=False)"
            ]
        },
        {
            "cell_type": "markdown",
            "metadata": {
                "azdata_cell_guid": "dedc0bfe-17d0-40b2-914f-2ddb54f9ce0d"
            },
            "source": [
                "## Summarize Your Results\n",
                "\n",
                "Make note of your answers to the following questions.\n",
                "\n",
                "1. Did you find all four types of dirty data in your dataset? \n",
                "\n",
                "No, I did not find Irregular Data in my dataset based on my previous EDA. The only real concern here would be the rating and that turned out to be clean to me.\n",
                "\n",
                "2. Did the process of cleaning your data give you new insights into your dataset?\n",
                "\n",
                "Yes. I understand the columns better and gave me an idea how to move forward with my analysis. It also showed me that I have PLENTY of null values in my dataset that can affect my analysis. It is good to note that moving forward as a word of caution when making conclusions about the data.\n",
                "\n",
                "3. Is there anything you would like to make note of when it comes to manipulating the data and making visualizations?\n",
                "\n",
                "The most important thing would be noting the large amount of null values in the dataset. Since the ratings are based on the different measures, it's hard to fill those null values with averages.\n",
                "Again, I would be wary to make conclusions based on missing data, but will analyze and present with what is available. "
            ]
        }
    ],
    "metadata": {
        "kernelspec": {
            "display_name": "venv",
            "language": "python",
            "name": "python3"
        },
        "language_info": {
            "codemirror_mode": {
                "name": "ipython",
                "version": 3
            },
            "file_extension": ".py",
            "mimetype": "text/x-python",
            "name": "python",
            "nbconvert_exporter": "python",
            "pygments_lexer": "ipython3",
            "version": "3.12.5"
        }
    },
    "nbformat": 4,
    "nbformat_minor": 2
}
